{
 "cells": [
  {
   "cell_type": "code",
   "execution_count": 1,
   "id": "7263ee5c-d5be-4d02-b559-eef8971f65bb",
   "metadata": {},
   "outputs": [
    {
     "name": "stderr",
     "output_type": "stream",
     "text": [
      "C:\\Users\\shubh\\anaconda3\\envs\\cuda\\lib\\site-packages\\tqdm\\auto.py:21: TqdmWarning: IProgress not found. Please update jupyter and ipywidgets. See https://ipywidgets.readthedocs.io/en/stable/user_install.html\n",
      "  from .autonotebook import tqdm as notebook_tqdm\n"
     ]
    }
   ],
   "source": [
    "from transformers import AutoImageProcessor, AutoModel\n",
    "\n",
    "\n",
    "model_ckpt = \"nateraw/vit-base-beans\"\n",
    "processor = AutoImageProcessor.from_pretrained('vit_base_beans/')\n",
    "model = AutoModel.from_pretrained('vit_base_beans/')"
   ]
  },
  {
   "cell_type": "code",
   "execution_count": 2,
   "id": "95cf88d7-8ee0-4a92-a1bb-49913853b8c7",
   "metadata": {},
   "outputs": [],
   "source": [
    "import torch"
   ]
  },
  {
   "cell_type": "code",
   "execution_count": 3,
   "id": "51be4e31-1bee-4abb-a2cc-f4f13e312cff",
   "metadata": {},
   "outputs": [
    {
     "name": "stdout",
     "output_type": "stream",
     "text": [
      "random/1.jpg\n",
      "random/10.jpg\n",
      "random/11.jpg\n",
      "random/12.jpg\n",
      "random/2.jpg\n",
      "random/3.jpg\n",
      "random/4.jpg\n",
      "random/5.jpg\n",
      "random/6.jpg\n",
      "random/7.jpeg\n",
      "random/8.jpg\n",
      "random/9.jpg\n"
     ]
    }
   ],
   "source": [
    "import os\n",
    "\n",
    "def get_image_files(folder_path):\n",
    "    # List all files in the folder\n",
    "    all_files = os.listdir(folder_path)\n",
    "    \n",
    "    # Filter out only the image files\n",
    "    image_files = [file for file in all_files if file.lower().endswith(('.png', '.jpg', '.jpeg', '.gif', '.bmp', '.tiff'))]\n",
    "    \n",
    "    # Convert relative paths to absolute paths\n",
    "    image_files = [os.path.join(folder_path, file) for file in image_files]\n",
    "    \n",
    "    return image_files\n",
    "\n",
    "folder_path = 'random/'\n",
    "Value = get_image_files(folder_path)\n",
    "\n",
    "# Print all image file paths\n",
    "for image_file in Value:\n",
    "    print(image_file)\n"
   ]
  },
  {
   "cell_type": "code",
   "execution_count": 4,
   "id": "2ed3f123-4d9a-47c4-aca2-f9b610f5b844",
   "metadata": {},
   "outputs": [],
   "source": [
    "from PIL import Image\n",
    "import numpy as np\n",
    "\n",
    "# Example function to load and preprocess images\n",
    "def load_image(file_path, target_size=(224, 224)):\n",
    "    image = Image.open(file_path)\n",
    "    image = image.resize(target_size)  # Resize the image to a fixed size\n",
    "    image = np.array(image)            # Convert PIL image to numpy array\n",
    "    #image = image / 255.0               # Normalize pixel values (if needed)\n",
    "    return image"
   ]
  },
  {
   "cell_type": "code",
   "execution_count": 5,
   "id": "5a290021-65b9-4869-81cd-9174f67dafda",
   "metadata": {},
   "outputs": [],
   "source": [
    "Images = []\n",
    "for i in Value:\n",
    "  #print(i, type(i))\n",
    "  Images.append(load_image(str(i)))"
   ]
  },
  {
   "cell_type": "code",
   "execution_count": 6,
   "id": "98770439-efc8-4082-a3b5-d1050562ad76",
   "metadata": {},
   "outputs": [],
   "source": [
    "def extract_embeddings(model: torch.nn.Module, Img):\n",
    "    \"\"\"Utility to compute embeddings.\"\"\"\n",
    "    device = model.device\n",
    "\n",
    "    #def pp(batch):\n",
    "    images = Img\n",
    "        # `transformation_chain` is a compostion of preprocessing\n",
    "        # transformations we apply to the input images to prepare them\n",
    "        # for the model. For more details, check out the accompanying Colab Notebook.\n",
    "    image_batch_transformed = torch.stack(\n",
    "        [torch.tensor(image).permute(2, 0, 1) for image in images]\n",
    "    )\n",
    "    new_batch = {\"pixel_values\": image_batch_transformed.to(device)}\n",
    "    with torch.no_grad():\n",
    "        embeddings = model(**new_batch).last_hidden_state[:, 0].cpu()\n",
    "    return {\"embeddings\": embeddings}"
   ]
  },
  {
   "cell_type": "code",
   "execution_count": 7,
   "id": "0ceb1af1-310c-4d92-9018-4a06c845a292",
   "metadata": {},
   "outputs": [],
   "source": [
    "device = \"cuda\" if torch.cuda.is_available() else \"cpu\"\n",
    "extract_fn = extract_embeddings(model.to(device), Images)"
   ]
  },
  {
   "cell_type": "code",
   "execution_count": 8,
   "id": "298850fc-5f7e-46f8-b0bf-03a2dee6f2b0",
   "metadata": {},
   "outputs": [
    {
     "data": {
      "text/plain": [
       "torch.Size([12, 768])"
      ]
     },
     "execution_count": 8,
     "metadata": {},
     "output_type": "execute_result"
    }
   ],
   "source": [
    "extract_fn['embeddings'].shape"
   ]
  },
  {
   "cell_type": "code",
   "execution_count": 9,
   "id": "ed57d204-a502-4f8f-b657-fe533c88ea80",
   "metadata": {},
   "outputs": [
    {
     "data": {
      "text/plain": [
       "torch.Tensor"
      ]
     },
     "execution_count": 9,
     "metadata": {},
     "output_type": "execute_result"
    }
   ],
   "source": [
    "type(extract_fn['embeddings'])"
   ]
  },
  {
   "cell_type": "code",
   "execution_count": null,
   "id": "320a8c91-107c-4870-9dcb-82c079379afd",
   "metadata": {},
   "outputs": [],
   "source": []
  },
  {
   "cell_type": "code",
   "execution_count": 17,
   "id": "2f660fef-329f-470d-8803-2d2420d86f01",
   "metadata": {},
   "outputs": [
    {
     "name": "stdout",
     "output_type": "stream",
     "text": [
      "Looking in indexes: https://pypi.org/simple, https://pypi.ngc.nvidia.com\n",
      "Collecting pymilvus\n",
      "  Downloading pymilvus-2.4.0-1-py3-none-any.whl.metadata (4.5 kB)\n",
      "Requirement already satisfied: setuptools>=67 in c:\\users\\shubh\\anaconda3\\envs\\cuda\\lib\\site-packages (from pymilvus) (68.2.2)\n",
      "Collecting grpcio<=1.60.0,>=1.49.1 (from pymilvus)\n",
      "  Downloading grpcio-1.60.0-cp39-cp39-win_amd64.whl.metadata (4.2 kB)\n",
      "Collecting protobuf>=3.20.0 (from pymilvus)\n",
      "  Downloading protobuf-5.26.1-cp39-cp39-win_amd64.whl.metadata (592 bytes)\n",
      "Collecting environs<=9.5.0 (from pymilvus)\n",
      "  Downloading environs-9.5.0-py2.py3-none-any.whl.metadata (14 kB)\n",
      "Collecting ujson>=2.0.0 (from pymilvus)\n",
      "  Downloading ujson-5.9.0-cp39-cp39-win_amd64.whl.metadata (8.9 kB)\n",
      "Requirement already satisfied: pandas>=1.2.4 in c:\\users\\shubh\\anaconda3\\envs\\cuda\\lib\\site-packages (from pymilvus) (1.5.3)\n",
      "Requirement already satisfied: requests in c:\\users\\shubh\\anaconda3\\envs\\cuda\\lib\\site-packages (from pymilvus) (2.31.0)\n",
      "Collecting minio>=7.0.0 (from pymilvus)\n",
      "  Downloading minio-7.2.5-py3-none-any.whl.metadata (6.4 kB)\n",
      "Collecting pyarrow>=12.0.0 (from pymilvus)\n",
      "  Downloading pyarrow-15.0.2-cp39-cp39-win_amd64.whl.metadata (3.1 kB)\n",
      "Collecting azure-storage-blob (from pymilvus)\n",
      "  Downloading azure_storage_blob-12.19.1-py3-none-any.whl.metadata (26 kB)\n",
      "Requirement already satisfied: scipy in c:\\users\\shubh\\anaconda3\\envs\\cuda\\lib\\site-packages (from pymilvus) (1.11.4)\n",
      "Collecting marshmallow>=3.0.0 (from environs<=9.5.0->pymilvus)\n",
      "  Downloading marshmallow-3.21.1-py3-none-any.whl.metadata (7.2 kB)\n",
      "Collecting python-dotenv (from environs<=9.5.0->pymilvus)\n",
      "  Downloading python_dotenv-1.0.1-py3-none-any.whl.metadata (23 kB)\n",
      "Requirement already satisfied: certifi in c:\\users\\shubh\\anaconda3\\envs\\cuda\\lib\\site-packages (from minio>=7.0.0->pymilvus) (2024.2.2)\n",
      "Requirement already satisfied: urllib3 in c:\\users\\shubh\\anaconda3\\envs\\cuda\\lib\\site-packages (from minio>=7.0.0->pymilvus) (2.1.0)\n",
      "Requirement already satisfied: argon2-cffi in c:\\users\\shubh\\anaconda3\\envs\\cuda\\lib\\site-packages (from minio>=7.0.0->pymilvus) (21.3.0)\n",
      "Collecting pycryptodome (from minio>=7.0.0->pymilvus)\n",
      "  Downloading pycryptodome-3.20.0-cp35-abi3-win_amd64.whl.metadata (3.4 kB)\n",
      "Requirement already satisfied: typing-extensions in c:\\users\\shubh\\anaconda3\\envs\\cuda\\lib\\site-packages (from minio>=7.0.0->pymilvus) (4.9.0)\n",
      "Requirement already satisfied: python-dateutil>=2.8.1 in c:\\users\\shubh\\anaconda3\\envs\\cuda\\lib\\site-packages (from pandas>=1.2.4->pymilvus) (2.8.2)\n",
      "Requirement already satisfied: pytz>=2020.1 in c:\\users\\shubh\\anaconda3\\envs\\cuda\\lib\\site-packages (from pandas>=1.2.4->pymilvus) (2023.3.post1)\n",
      "Requirement already satisfied: numpy>=1.20.3 in c:\\users\\shubh\\anaconda3\\envs\\cuda\\lib\\site-packages (from pandas>=1.2.4->pymilvus) (1.26.4)\n",
      "Collecting azure-core<2.0.0,>=1.28.0 (from azure-storage-blob->pymilvus)\n",
      "  Downloading azure_core-1.30.1-py3-none-any.whl.metadata (37 kB)\n",
      "Collecting cryptography>=2.1.4 (from azure-storage-blob->pymilvus)\n",
      "  Downloading cryptography-42.0.5-cp39-abi3-win_amd64.whl.metadata (5.4 kB)\n",
      "Collecting isodate>=0.6.1 (from azure-storage-blob->pymilvus)\n",
      "  Downloading isodate-0.6.1-py2.py3-none-any.whl.metadata (9.6 kB)\n",
      "Requirement already satisfied: charset-normalizer<4,>=2 in c:\\users\\shubh\\anaconda3\\envs\\cuda\\lib\\site-packages (from requests->pymilvus) (2.0.4)\n",
      "Requirement already satisfied: idna<4,>=2.5 in c:\\users\\shubh\\anaconda3\\envs\\cuda\\lib\\site-packages (from requests->pymilvus) (3.4)\n",
      "Requirement already satisfied: six>=1.11.0 in c:\\users\\shubh\\anaconda3\\envs\\cuda\\lib\\site-packages (from azure-core<2.0.0,>=1.28.0->azure-storage-blob->pymilvus) (1.16.0)\n",
      "Requirement already satisfied: cffi>=1.12 in c:\\users\\shubh\\anaconda3\\envs\\cuda\\lib\\site-packages (from cryptography>=2.1.4->azure-storage-blob->pymilvus) (1.16.0)\n",
      "Requirement already satisfied: packaging>=17.0 in c:\\users\\shubh\\anaconda3\\envs\\cuda\\lib\\site-packages (from marshmallow>=3.0.0->environs<=9.5.0->pymilvus) (23.1)\n",
      "Requirement already satisfied: argon2-cffi-bindings in c:\\users\\shubh\\anaconda3\\envs\\cuda\\lib\\site-packages (from argon2-cffi->minio>=7.0.0->pymilvus) (21.2.0)\n",
      "Requirement already satisfied: pycparser in c:\\users\\shubh\\anaconda3\\envs\\cuda\\lib\\site-packages (from cffi>=1.12->cryptography>=2.1.4->azure-storage-blob->pymilvus) (2.21)\n",
      "Downloading pymilvus-2.4.0-1-py3-none-any.whl (189 kB)\n",
      "   ---------------------------------------- 0.0/189.7 kB ? eta -:--:--\n",
      "   ----------------- ---------------------- 81.9/189.7 kB 2.3 MB/s eta 0:00:01\n",
      "   ---------------------------------------- 189.7/189.7 kB 2.8 MB/s eta 0:00:00\n",
      "Downloading environs-9.5.0-py2.py3-none-any.whl (12 kB)\n",
      "Downloading grpcio-1.60.0-cp39-cp39-win_amd64.whl (3.7 MB)\n",
      "   ---------------------------------------- 0.0/3.7 MB ? eta -:--:--\n",
      "   - -------------------------------------- 0.1/3.7 MB 4.3 MB/s eta 0:00:01\n",
      "   --- ------------------------------------ 0.3/3.7 MB 4.2 MB/s eta 0:00:01\n",
      "   ----- ---------------------------------- 0.5/3.7 MB 4.1 MB/s eta 0:00:01\n",
      "   ------- -------------------------------- 0.7/3.7 MB 4.1 MB/s eta 0:00:01\n",
      "   --------- ------------------------------ 0.9/3.7 MB 4.0 MB/s eta 0:00:01\n",
      "   ----------- ---------------------------- 1.1/3.7 MB 4.0 MB/s eta 0:00:01\n",
      "   ------------- -------------------------- 1.3/3.7 MB 4.0 MB/s eta 0:00:01\n",
      "   --------------- ------------------------ 1.5/3.7 MB 4.0 MB/s eta 0:00:01\n",
      "   ----------------- ---------------------- 1.6/3.7 MB 4.0 MB/s eta 0:00:01\n",
      "   ------------------ --------------------- 1.7/3.7 MB 4.1 MB/s eta 0:00:01\n",
      "   ------------------- -------------------- 1.8/3.7 MB 3.8 MB/s eta 0:00:01\n",
      "   -------------------- ------------------- 1.9/3.7 MB 3.5 MB/s eta 0:00:01\n",
      "   ---------------------- ----------------- 2.1/3.7 MB 3.5 MB/s eta 0:00:01\n",
      "   ----------------------- ---------------- 2.2/3.7 MB 3.5 MB/s eta 0:00:01\n",
      "   ------------------------- -------------- 2.4/3.7 MB 3.4 MB/s eta 0:00:01\n",
      "   -------------------------- ------------- 2.5/3.7 MB 3.4 MB/s eta 0:00:01\n",
      "   ---------------------------- ----------- 2.7/3.7 MB 3.4 MB/s eta 0:00:01\n",
      "   ------------------------------ --------- 2.8/3.7 MB 3.4 MB/s eta 0:00:01\n",
      "   ------------------------------- -------- 2.9/3.7 MB 3.3 MB/s eta 0:00:01\n",
      "   --------------------------------- ------ 3.1/3.7 MB 3.3 MB/s eta 0:00:01\n",
      "   ----------------------------------- ---- 3.3/3.7 MB 3.3 MB/s eta 0:00:01\n",
      "   ------------------------------------ --- 3.4/3.7 MB 3.3 MB/s eta 0:00:01\n",
      "   -------------------------------------- - 3.6/3.7 MB 3.3 MB/s eta 0:00:01\n",
      "   ---------------------------------------- 3.7/3.7 MB 3.3 MB/s eta 0:00:00\n",
      "Downloading minio-7.2.5-py3-none-any.whl (93 kB)\n",
      "   ---------------------------------------- 0.0/93.2 kB ? eta -:--:--\n",
      "   ---------------------------------------- 93.2/93.2 kB 5.5 MB/s eta 0:00:00\n",
      "Downloading protobuf-5.26.1-cp39-cp39-win_amd64.whl (420 kB)\n",
      "   ---------------------------------------- 0.0/421.0 kB ? eta -:--:--\n",
      "   --------------- ------------------------ 163.8/421.0 kB 3.3 MB/s eta 0:00:01\n",
      "   ------------------------------- -------- 327.7/421.0 kB 3.4 MB/s eta 0:00:01\n",
      "   ---------------------------------------- 421.0/421.0 kB 3.8 MB/s eta 0:00:00\n",
      "Downloading pyarrow-15.0.2-cp39-cp39-win_amd64.whl (24.9 MB)\n",
      "   ---------------------------------------- 0.0/24.9 MB ? eta -:--:--\n",
      "   ---------------------------------------- 0.1/24.9 MB 3.3 MB/s eta 0:00:08\n",
      "   ---------------------------------------- 0.3/24.9 MB 3.5 MB/s eta 0:00:07\n",
      "    --------------------------------------- 0.5/24.9 MB 3.7 MB/s eta 0:00:07\n",
      "   - -------------------------------------- 0.7/24.9 MB 3.8 MB/s eta 0:00:07\n",
      "   - -------------------------------------- 0.8/24.9 MB 3.7 MB/s eta 0:00:07\n",
      "   - -------------------------------------- 1.0/24.9 MB 3.8 MB/s eta 0:00:07\n",
      "   - -------------------------------------- 1.2/24.9 MB 3.8 MB/s eta 0:00:07\n",
      "   -- ------------------------------------- 1.4/24.9 MB 3.8 MB/s eta 0:00:07\n",
      "   -- ------------------------------------- 1.6/24.9 MB 3.8 MB/s eta 0:00:07\n",
      "   -- ------------------------------------- 1.8/24.9 MB 3.8 MB/s eta 0:00:07\n",
      "   --- ------------------------------------ 2.0/24.9 MB 3.9 MB/s eta 0:00:06\n",
      "   --- ------------------------------------ 2.1/24.9 MB 4.0 MB/s eta 0:00:06\n",
      "   --- ------------------------------------ 2.4/24.9 MB 3.9 MB/s eta 0:00:06\n",
      "   ---- ----------------------------------- 2.5/24.9 MB 4.0 MB/s eta 0:00:06\n",
      "   ---- ----------------------------------- 2.7/24.9 MB 4.0 MB/s eta 0:00:06\n",
      "   ---- ----------------------------------- 2.9/24.9 MB 4.0 MB/s eta 0:00:06\n",
      "   ----- ---------------------------------- 3.1/24.9 MB 4.1 MB/s eta 0:00:06\n",
      "   ----- ---------------------------------- 3.3/24.9 MB 4.0 MB/s eta 0:00:06\n",
      "   ----- ---------------------------------- 3.6/24.9 MB 4.1 MB/s eta 0:00:06\n",
      "   ------ --------------------------------- 3.8/24.9 MB 4.2 MB/s eta 0:00:06\n",
      "   ------ --------------------------------- 4.0/24.9 MB 4.2 MB/s eta 0:00:05\n",
      "   ------ --------------------------------- 4.2/24.9 MB 4.2 MB/s eta 0:00:05\n",
      "   ------- -------------------------------- 4.4/24.9 MB 4.2 MB/s eta 0:00:05\n",
      "   ------- -------------------------------- 4.6/24.9 MB 4.2 MB/s eta 0:00:05\n",
      "   ------- -------------------------------- 4.9/24.9 MB 4.3 MB/s eta 0:00:05\n",
      "   -------- ------------------------------- 5.1/24.9 MB 4.2 MB/s eta 0:00:05\n",
      "   -------- ------------------------------- 5.4/24.9 MB 4.3 MB/s eta 0:00:05\n",
      "   -------- ------------------------------- 5.6/24.9 MB 4.3 MB/s eta 0:00:05\n",
      "   --------- ------------------------------ 5.8/24.9 MB 4.4 MB/s eta 0:00:05\n",
      "   --------- ------------------------------ 6.1/24.9 MB 4.4 MB/s eta 0:00:05\n",
      "   ---------- ----------------------------- 6.3/24.9 MB 4.4 MB/s eta 0:00:05\n",
      "   ---------- ----------------------------- 6.6/24.9 MB 4.5 MB/s eta 0:00:05\n",
      "   ---------- ----------------------------- 6.8/24.9 MB 4.5 MB/s eta 0:00:05\n",
      "   ----------- ---------------------------- 7.1/24.9 MB 4.5 MB/s eta 0:00:04\n",
      "   ----------- ---------------------------- 7.3/24.9 MB 4.6 MB/s eta 0:00:04\n",
      "   ------------ --------------------------- 7.6/24.9 MB 4.6 MB/s eta 0:00:04\n",
      "   ------------ --------------------------- 7.9/24.9 MB 4.6 MB/s eta 0:00:04\n",
      "   ------------ --------------------------- 8.1/24.9 MB 4.6 MB/s eta 0:00:04\n",
      "   ------------- -------------------------- 8.4/24.9 MB 4.7 MB/s eta 0:00:04\n",
      "   ------------- -------------------------- 8.7/24.9 MB 4.7 MB/s eta 0:00:04\n",
      "   -------------- ------------------------- 8.9/24.9 MB 4.7 MB/s eta 0:00:04\n",
      "   -------------- ------------------------- 9.2/24.9 MB 4.7 MB/s eta 0:00:04\n",
      "   --------------- ------------------------ 9.5/24.9 MB 4.8 MB/s eta 0:00:04\n",
      "   --------------- ------------------------ 9.7/24.9 MB 4.8 MB/s eta 0:00:04\n",
      "   ---------------- ----------------------- 10.0/24.9 MB 4.8 MB/s eta 0:00:04\n",
      "   ---------------- ----------------------- 10.3/24.9 MB 4.9 MB/s eta 0:00:03\n",
      "   ----------------- ---------------------- 10.6/24.9 MB 4.9 MB/s eta 0:00:03\n",
      "   ----------------- ---------------------- 10.9/24.9 MB 5.0 MB/s eta 0:00:03\n",
      "   ----------------- ---------------------- 11.2/24.9 MB 5.1 MB/s eta 0:00:03\n",
      "   ------------------ --------------------- 11.5/24.9 MB 5.1 MB/s eta 0:00:03\n",
      "   ------------------ --------------------- 11.8/24.9 MB 5.2 MB/s eta 0:00:03\n",
      "   ------------------- -------------------- 12.0/24.9 MB 5.2 MB/s eta 0:00:03\n",
      "   ------------------- -------------------- 12.3/24.9 MB 5.3 MB/s eta 0:00:03\n",
      "   -------------------- ------------------- 12.7/24.9 MB 5.4 MB/s eta 0:00:03\n",
      "   -------------------- ------------------- 13.0/24.9 MB 5.5 MB/s eta 0:00:03\n",
      "   --------------------- ------------------ 13.2/24.9 MB 5.5 MB/s eta 0:00:03\n",
      "   --------------------- ------------------ 13.4/24.9 MB 5.5 MB/s eta 0:00:03\n",
      "   --------------------- ------------------ 13.7/24.9 MB 5.6 MB/s eta 0:00:03\n",
      "   ---------------------- ----------------- 13.9/24.9 MB 5.6 MB/s eta 0:00:02\n",
      "   ---------------------- ----------------- 14.1/24.9 MB 5.5 MB/s eta 0:00:02\n",
      "   ----------------------- ---------------- 14.3/24.9 MB 5.5 MB/s eta 0:00:02\n",
      "   ----------------------- ---------------- 14.6/24.9 MB 5.5 MB/s eta 0:00:02\n",
      "   ----------------------- ---------------- 14.8/24.9 MB 5.6 MB/s eta 0:00:02\n",
      "   ------------------------ --------------- 15.0/24.9 MB 5.6 MB/s eta 0:00:02\n",
      "   ------------------------ --------------- 15.3/24.9 MB 5.6 MB/s eta 0:00:02\n",
      "   ------------------------ --------------- 15.5/24.9 MB 5.6 MB/s eta 0:00:02\n",
      "   ------------------------- -------------- 15.7/24.9 MB 5.6 MB/s eta 0:00:02\n",
      "   ------------------------- -------------- 16.0/24.9 MB 5.6 MB/s eta 0:00:02\n",
      "   -------------------------- ------------- 16.2/24.9 MB 5.6 MB/s eta 0:00:02\n",
      "   -------------------------- ------------- 16.5/24.9 MB 5.5 MB/s eta 0:00:02\n",
      "   -------------------------- ------------- 16.7/24.9 MB 5.5 MB/s eta 0:00:02\n",
      "   --------------------------- ------------ 16.9/24.9 MB 5.5 MB/s eta 0:00:02\n",
      "   --------------------------- ------------ 17.2/24.9 MB 5.5 MB/s eta 0:00:02\n",
      "   ---------------------------- ----------- 17.5/24.9 MB 5.6 MB/s eta 0:00:02\n",
      "   ---------------------------- ----------- 17.7/24.9 MB 5.6 MB/s eta 0:00:02\n",
      "   ---------------------------- ----------- 18.0/24.9 MB 5.5 MB/s eta 0:00:02\n",
      "   ----------------------------- ---------- 18.2/24.9 MB 5.5 MB/s eta 0:00:02\n",
      "   ----------------------------- ---------- 18.5/24.9 MB 5.5 MB/s eta 0:00:02\n",
      "   ------------------------------ --------- 18.8/24.9 MB 5.5 MB/s eta 0:00:02\n",
      "   ------------------------------ --------- 19.0/24.9 MB 5.5 MB/s eta 0:00:02\n",
      "   ------------------------------- -------- 19.3/24.9 MB 5.5 MB/s eta 0:00:02\n",
      "   ------------------------------- -------- 19.6/24.9 MB 5.6 MB/s eta 0:00:01\n",
      "   ------------------------------- -------- 19.9/24.9 MB 5.6 MB/s eta 0:00:01\n",
      "   -------------------------------- ------- 20.1/24.9 MB 5.5 MB/s eta 0:00:01\n",
      "   -------------------------------- ------- 20.4/24.9 MB 5.5 MB/s eta 0:00:01\n",
      "   --------------------------------- ------ 20.7/24.9 MB 5.5 MB/s eta 0:00:01\n",
      "   --------------------------------- ------ 21.0/24.9 MB 5.5 MB/s eta 0:00:01\n",
      "   ---------------------------------- ----- 21.3/24.9 MB 5.5 MB/s eta 0:00:01\n",
      "   ---------------------------------- ----- 21.6/24.9 MB 5.5 MB/s eta 0:00:01\n",
      "   ----------------------------------- ---- 21.9/24.9 MB 5.6 MB/s eta 0:00:01\n",
      "   ----------------------------------- ---- 22.1/24.9 MB 5.6 MB/s eta 0:00:01\n",
      "   ------------------------------------ --- 22.5/24.9 MB 5.5 MB/s eta 0:00:01\n",
      "   ------------------------------------ --- 22.7/24.9 MB 5.5 MB/s eta 0:00:01\n",
      "   ------------------------------------- -- 23.1/24.9 MB 5.5 MB/s eta 0:00:01\n",
      "   ------------------------------------- -- 23.3/24.9 MB 5.6 MB/s eta 0:00:01\n",
      "   -------------------------------------- - 23.7/24.9 MB 5.6 MB/s eta 0:00:01\n",
      "   -------------------------------------- - 23.9/24.9 MB 5.7 MB/s eta 0:00:01\n",
      "   ---------------------------------------  24.3/24.9 MB 5.7 MB/s eta 0:00:01\n",
      "   ---------------------------------------  24.6/24.9 MB 5.8 MB/s eta 0:00:01\n",
      "   ---------------------------------------- 24.9/24.9 MB 5.8 MB/s eta 0:00:00\n",
      "Downloading ujson-5.9.0-cp39-cp39-win_amd64.whl (41 kB)\n",
      "   ---------------------------------------- 0.0/42.0 kB ? eta -:--:--\n",
      "   ---------------------------------------- 42.0/42.0 kB ? eta 0:00:00\n",
      "Downloading azure_storage_blob-12.19.1-py3-none-any.whl (394 kB)\n",
      "   ---------------------------------------- 0.0/394.5 kB ? eta -:--:--\n",
      "   -------------------------------- ------- 317.4/394.5 kB 6.5 MB/s eta 0:00:01\n",
      "   ---------------------------------------- 394.5/394.5 kB 6.1 MB/s eta 0:00:00\n",
      "Downloading azure_core-1.30.1-py3-none-any.whl (193 kB)\n",
      "   ---------------------------------------- 0.0/193.4 kB ? eta -:--:--\n",
      "   --------------------------------------- 193.4/193.4 kB 12.2 MB/s eta 0:00:00\n",
      "Downloading cryptography-42.0.5-cp39-abi3-win_amd64.whl (2.9 MB)\n",
      "   ---------------------------------------- 0.0/2.9 MB ? eta -:--:--\n",
      "   ---- ----------------------------------- 0.3/2.9 MB 7.0 MB/s eta 0:00:01\n",
      "   --------- ------------------------------ 0.7/2.9 MB 7.0 MB/s eta 0:00:01\n",
      "   ------------- -------------------------- 1.0/2.9 MB 7.0 MB/s eta 0:00:01\n",
      "   ------------------ --------------------- 1.3/2.9 MB 7.1 MB/s eta 0:00:01\n",
      "   ----------------------- ---------------- 1.7/2.9 MB 7.1 MB/s eta 0:00:01\n",
      "   --------------------------- ------------ 2.0/2.9 MB 7.1 MB/s eta 0:00:01\n",
      "   -------------------------------- ------- 2.3/2.9 MB 7.1 MB/s eta 0:00:01\n",
      "   ------------------------------------- -- 2.7/2.9 MB 7.2 MB/s eta 0:00:01\n",
      "   ---------------------------------------- 2.9/2.9 MB 7.4 MB/s eta 0:00:00\n",
      "Downloading isodate-0.6.1-py2.py3-none-any.whl (41 kB)\n",
      "   ---------------------------------------- 0.0/41.7 kB ? eta -:--:--\n",
      "   ---------------------------------------- 41.7/41.7 kB ? eta 0:00:00\n",
      "Downloading marshmallow-3.21.1-py3-none-any.whl (49 kB)\n",
      "   ---------------------------------------- 0.0/49.4 kB ? eta -:--:--\n",
      "   ---------------------------------------- 49.4/49.4 kB ? eta 0:00:00\n",
      "Downloading pycryptodome-3.20.0-cp35-abi3-win_amd64.whl (1.8 MB)\n",
      "   ---------------------------------------- 0.0/1.8 MB ? eta -:--:--\n",
      "   ------- -------------------------------- 0.3/1.8 MB 6.8 MB/s eta 0:00:01\n",
      "   --------------- ------------------------ 0.7/1.8 MB 7.0 MB/s eta 0:00:01\n",
      "   ----------------------- ---------------- 1.0/1.8 MB 7.3 MB/s eta 0:00:01\n",
      "   ------------------------------- -------- 1.4/1.8 MB 7.4 MB/s eta 0:00:01\n",
      "   ---------------------------------------- 1.8/1.8 MB 7.5 MB/s eta 0:00:00\n",
      "Downloading python_dotenv-1.0.1-py3-none-any.whl (19 kB)\n",
      "Installing collected packages: ujson, python-dotenv, pycryptodome, pyarrow, protobuf, marshmallow, isodate, grpcio, environs, cryptography, azure-core, azure-storage-blob, minio, pymilvus\n",
      "Successfully installed azure-core-1.30.1 azure-storage-blob-12.19.1 cryptography-42.0.5 environs-9.5.0 grpcio-1.60.0 isodate-0.6.1 marshmallow-3.21.1 minio-7.2.5 protobuf-5.26.1 pyarrow-15.0.2 pycryptodome-3.20.0 pymilvus-2.4.0 python-dotenv-1.0.1 ujson-5.9.0\n"
     ]
    }
   ],
   "source": [
    "!pip install pymilvus"
   ]
  },
  {
   "cell_type": "code",
   "execution_count": 10,
   "id": "ec011b26-d119-4616-9d08-44dbe6c5e99d",
   "metadata": {},
   "outputs": [],
   "source": [
    "#Imports a PyMilvus package:\n",
    "from pymilvus import (\n",
    "    connections,\n",
    "    utility,\n",
    "    FieldSchema,\n",
    "    CollectionSchema,\n",
    "    DataType,\n",
    "    Collection,\n",
    ")"
   ]
  },
  {
   "cell_type": "code",
   "execution_count": 11,
   "id": "eeb796a1-bacb-47f1-b71c-f54381cd9cad",
   "metadata": {},
   "outputs": [],
   "source": [
    "#Connects to a server:\n",
    "connections.connect(\"default\", host=\"localhost\", port=\"19530\")"
   ]
  },
  {
   "cell_type": "code",
   "execution_count": 22,
   "id": "8f301703-5d82-4deb-80d8-c4471f5cb67e",
   "metadata": {},
   "outputs": [],
   "source": [
    "#Creates a collection:\n",
    "fields = [\n",
    "    FieldSchema(name=\"pk\", dtype=DataType.INT64, is_primary=True, auto_id=False),\n",
    "    FieldSchema(name=\"file_path\", dtype=DataType.VARCHAR, max_length=200),\n",
    "    FieldSchema(name=\"embeddings\", dtype=DataType.FLOAT_VECTOR, dim=768)\n",
    "]\n",
    "\n"
   ]
  },
  {
   "cell_type": "code",
   "execution_count": 14,
   "id": "01bcf984-bc4f-435c-ba30-477a06770ada",
   "metadata": {},
   "outputs": [
    {
     "ename": "NameError",
     "evalue": "name 'fields' is not defined",
     "output_type": "error",
     "traceback": [
      "\u001b[1;31m---------------------------------------------------------------------------\u001b[0m",
      "\u001b[1;31mNameError\u001b[0m                                 Traceback (most recent call last)",
      "Cell \u001b[1;32mIn[14], line 1\u001b[0m\n\u001b[1;32m----> 1\u001b[0m schema \u001b[38;5;241m=\u001b[39m CollectionSchema(\u001b[43mfields\u001b[49m, \u001b[38;5;124m\"\u001b[39m\u001b[38;5;124mImage query based Image retrieval system\u001b[39m\u001b[38;5;124m\"\u001b[39m)\n\u001b[0;32m      2\u001b[0m hello_milvus \u001b[38;5;241m=\u001b[39m Collection(\u001b[38;5;124m\"\u001b[39m\u001b[38;5;124mBDT\u001b[39m\u001b[38;5;124m\"\u001b[39m, schema)\n",
      "\u001b[1;31mNameError\u001b[0m: name 'fields' is not defined"
     ]
    }
   ],
   "source": [
    "schema = CollectionSchema(fields, \"Image query based Image retrieval system\")\n",
    "hello_milvus = Collection(\"BDT\", schema)"
   ]
  },
  {
   "cell_type": "code",
   "execution_count": 15,
   "id": "095557ba-56fb-46b5-a7f3-2db550540da5",
   "metadata": {},
   "outputs": [],
   "source": [
    "hello_milvus = Collection(name=\"BDT\")"
   ]
  },
  {
   "cell_type": "code",
   "execution_count": 31,
   "id": "c8b28d86-9efe-44ad-b7a4-84357955fed6",
   "metadata": {},
   "outputs": [],
   "source": [
    "entities = [\n",
    "    [i for i in range(len(Value))],\n",
    "    [path for path in Value],\n",
    "    [arr.numpy() for arr in extract_fn['embeddings']]\n",
    "]"
   ]
  },
  {
   "cell_type": "code",
   "execution_count": 36,
   "id": "265ec34c-90f7-43f3-98b6-bfe5afd5ccdc",
   "metadata": {},
   "outputs": [
    {
     "data": {
      "text/plain": [
       "Status(code=0, message=)"
      ]
     },
     "execution_count": 36,
     "metadata": {},
     "output_type": "execute_result"
    }
   ],
   "source": [
    "# Builds indexes on the entities:\n",
    "\n",
    "index = {\n",
    "    \"index_type\": \"IVF_FLAT\",\n",
    "    \"metric_type\": \"L2\",\n",
    "    \"params\": {\"nlist\": 128},\n",
    "}\n",
    "hello_milvus.create_index(\"embeddings\", index)"
   ]
  },
  {
   "cell_type": "code",
   "execution_count": 37,
   "id": "1d7b8f90-0e12-45c8-af33-a1c15afe8a0e",
   "metadata": {},
   "outputs": [
    {
     "data": {
      "text/plain": [
       "(insert count: 12, delete count: 0, upsert count: 0, timestamp: 448965910330605571, success count: 12, err count: 0)"
      ]
     },
     "execution_count": 37,
     "metadata": {},
     "output_type": "execute_result"
    }
   ],
   "source": [
    "hello_milvus.insert(entities)"
   ]
  },
  {
   "cell_type": "code",
   "execution_count": 38,
   "id": "04fa57ff-deb2-4809-92c1-b88c86ac64c5",
   "metadata": {},
   "outputs": [],
   "source": [
    "hello_milvus.flush() "
   ]
  },
  {
   "cell_type": "code",
   "execution_count": 39,
   "id": "5a56c876-072b-4a58-a36d-01075261edad",
   "metadata": {},
   "outputs": [],
   "source": [
    "hello_milvus.load()"
   ]
  },
  {
   "cell_type": "code",
   "execution_count": 17,
   "id": "2a93b9ce-32bc-44e2-8bea-e18a6bf4f2fb",
   "metadata": {},
   "outputs": [
    {
     "data": {
      "text/plain": [
       "['[\"id: 7, distance: 0.0, entity: {\\'file_path\\': \\'random/5.jpg\\'}\", \"id: 4, distance: 0.8913886547088623, entity: {\\'file_path\\': \\'random/2.jpg\\'}\", \"id: 8, distance: 1.9012119770050049, entity: {\\'file_path\\': \\'random/6.jpg\\'}\"]']"
      ]
     },
     "execution_count": 17,
     "metadata": {},
     "output_type": "execute_result"
    }
   ],
   "source": [
    "vectors_to_search = extract_fn['embeddings'][7].numpy()\n",
    "search_params = {\n",
    "    \"metric_type\": \"L2\",\n",
    "    \"params\": {\"nprobe\": 10},\n",
    "}\n",
    "result = hello_milvus.search([vectors_to_search], \"embeddings\", search_params, limit=3, output_fields=[\"file_path\"])\n",
    "result"
   ]
  },
  {
   "cell_type": "code",
   "execution_count": 52,
   "id": "318d6863-0a51-47af-b2ce-b87edb47cdee",
   "metadata": {},
   "outputs": [
    {
     "name": "stdout",
     "output_type": "stream",
     "text": [
      "id: 5, distance: 0.0, entity: {'file_path': 'random/3.jpg'}\n",
      "id: 0, distance: 3.152235746383667, entity: {'file_path': 'random/1.jpg'}\n",
      "id: 8, distance: 3.4347569942474365, entity: {'file_path': 'random/6.jpg'}\n"
     ]
    }
   ],
   "source": [
    "for i in result[0]:\n",
    "    print(i)"
   ]
  },
  {
   "cell_type": "code",
   "execution_count": 54,
   "id": "2443f49b-447f-4b26-8014-6eac3fc71b00",
   "metadata": {},
   "outputs": [],
   "source": [
    "utility.drop_collection('hello_milvus')"
   ]
  },
  {
   "cell_type": "code",
   "execution_count": null,
   "id": "ebb09910-e0dd-434f-bd33-2d23667a6016",
   "metadata": {},
   "outputs": [],
   "source": []
  }
 ],
 "metadata": {
  "kernelspec": {
   "display_name": "Python 3 (ipykernel)",
   "language": "python",
   "name": "python3"
  },
  "language_info": {
   "codemirror_mode": {
    "name": "ipython",
    "version": 3
   },
   "file_extension": ".py",
   "mimetype": "text/x-python",
   "name": "python",
   "nbconvert_exporter": "python",
   "pygments_lexer": "ipython3",
   "version": "3.9.18"
  }
 },
 "nbformat": 4,
 "nbformat_minor": 5
}
